{
 "cells": [
  {
   "cell_type": "markdown",
   "metadata": {},
   "source": [
    "# Exercise 04 - Due Friday, October 21 at 12pm\n",
    "\n",
    "*Objectives*: Gain experience loading a CSV dataset into a database model you define yourself and using SQL to explore its contents. Explore the data by writing and executing a number of SQL queries using common syntax and functions and describing your findings.\n",
    "\n",
    "*Grading criteria*: The tasks should all be completed, and questions should all be answered with SQL queries in the space provided, unless a text answer is requested. Results should be correct, according to the embedded tests. The notebook itself should be completely reproducible; from start to finish, another person should be able to use the same code to obtain the same results as yours.  Note that you will receive no more than partial credit if you do not add text/markdown cells explaining your thinking at each major step in each problem.\n",
    "\n",
    "*Deadline*: Friday, October 21, 12pm. Submit your notebook to Blackboard and push it to your GitHub repository.\n",
    "\n",
    "## Setup - obtain data and create database\n",
    "\n",
    "The US City Open Data Census has data on [restaurant inspections from all over the country](http://us-city.census.okfn.org/dataset/food-safety).  Let's take a look at data from Albuquerque.  *Note*: metadata and other details for this dataset are available at http://data.cabq.gov/business/foodinspections/.\n",
    "\n",
    "Fyi, to save you a step, I've converted this file into a clean CSV file by using the `dos2unix` command to change its line endings and to switch it to use commas instead of tabs using `csvformat -t inputfile.csv > outputfile.csv`.\n",
    "\n",
    "First we download the dataset:"
   ]
  },
  {
   "cell_type": "code",
   "execution_count": null,
   "metadata": {
    "collapsed": false
   },
   "outputs": [],
   "source": [
    "!wget https://raw.githubusercontent.com/gwsb-istm-6212-fall-2016/syllabus-and-schedule/master/exercises/abq-food-inspections-fy2010.csv"
   ]
  },
  {
   "cell_type": "markdown",
   "metadata": {},
   "source": [
    "## Problem 1 - examine the data (35 points)\n",
    "\n",
    "Use `csvstat` and other tools as you see fit and observe its contents.  Review the metadata definitions linked to above.  Describe what you see:  What do all the columns mean?  Are there null values?  Which columns interest you the most?  Which columns present some complications or questions you would like to ask?"
   ]
  },
  {
   "cell_type": "code",
   "execution_count": null,
   "metadata": {
    "collapsed": false
   },
   "outputs": [],
   "source": [
    "!csvcut -n abq-food-inspections-fy2010.csv"
   ]
  },
  {
   "cell_type": "code",
   "execution_count": null,
   "metadata": {
    "collapsed": false
   },
   "outputs": [],
   "source": [
    "!shuf -n 10000 abq-food-inspections-fy2010.csv | csvstat"
   ]
  },
  {
   "cell_type": "markdown",
   "metadata": {},
   "source": [
    "Insert a combination of code and text/markdown cells here to review the data and describe what you find."
   ]
  },
  {
   "cell_type": "markdown",
   "metadata": {},
   "source": [
    "column descriptions : \n",
    "    1. FACILITY_NAME : Name of the facility\n",
    "    2. FACILITY_KEY : The unique key of the facility\n",
    "    3. SITE_ADDRESS : Street address of the facility\n",
    "    4. CITY : City of the facility\n",
    "    5. STATE : State of the facility                                                  \n",
    "    6. ZIP : Zip of the facility                                                        \n",
    "    7. OWNER_KEY : The unique key of the Owner of the facility                              \n",
    "    8. OWNER_NAME : Name of the Owner of the facility                                       \n",
    "    9. NATURE_OF_BUSINESS : The type of business                                           \n",
    "    10. STREET_NUMBER : Street number of the facility                                      \n",
    "    11. STREET_NAME : Street name of the facility                                          \n",
    "    12. STREET_TYPE : Street type of the facility                               \n",
    "    13. POST_DIRECTIONAL : Postal direction of the facility        \n",
    "    14: PHONE : Phone number of the facility                                               \n",
    "    15: PROGRAM_CATEGORY : Id that indicates the type of facility permit                   \n",
    "    16: PROGRAM_CATEGORY_DESCRIPTION : Descript of the id that shows the type of facility permit\n",
    "    17: INSPECTION_DATE : Date the inspection occurred                                     \n",
    "    18: INSPECTION_TYPE : Code for type of inspection                              \n",
    "    19: INSPECTION_DESC : Description of the inspection               \n",
    "    20: SERIAL_NUM: Unique ID for the inspection daily activity           \n",
    "    21: ACTION_CODE : Code of the action taken                            \n",
    "    22: ACTION_DESC : Description of the action taken                \n",
    "    23: RESULT_CODE : Code of the result of the inspection           \n",
    "    24: RESULT_DESC : Description of the result of the inspection       \n",
    "    25: VIOLATION_CODE : The code for the violation                     \n",
    "    26: VIOLATION_DESC : Description of the violation that was found        \n",
    "    27: INSPECTION_MEMO : Notes from the inspection made by the inspector"
   ]
  },
  {
   "cell_type": "markdown",
   "metadata": {},
   "source": [
    "### Null value exsits in the 3,9,10,11,12,13,14,16,18,25,26,27 columns"
   ]
  },
  {
   "cell_type": "markdown",
   "metadata": {},
   "source": [
    "### Which columns interest you the most?\n",
    "What I am most interestred in is the violation description column which tells us the different types of violation that restaurants commit. "
   ]
  },
  {
   "cell_type": "markdown",
   "metadata": {},
   "source": [
    "### Which columns present some complications or questions you would like to ask?\n",
    "While being interested in the results of different kinds of voilations, I want to know that which type of the business (NATURE_OF_BUSINESS) is the one most easily commit violations. And what are the most frequent violations (VIOLATION_CODE, VIOLATION_DESC) they commit."
   ]
  },
  {
   "cell_type": "markdown",
   "metadata": {},
   "source": [
    "## Problem 2 - define a database model and load the data (35 points)\n",
    "\n",
    "Based on what you found above, create and connect to a new database, define a database table in it, and load this dataset into it.  You may use either of the methods for this step you have seen in earlier class notebooks.  You may choose to eliminate variables/columns if they are not relevant or interesting to you - explain your reasoning if you do.  Either way, you should load a majority of the columns present in the source dataset into the database and all of its rows.\n",
    "\n",
    "Once your data has loaded successfully, run a `COUNT(*)` query to verify that all the data has loaded correctly.\n",
    "\n",
    "Insert a combination of code and text/markdown cells here to connect to your database, define your table, load its data, and verify the loaded records."
   ]
  },
  {
   "cell_type": "code",
   "execution_count": null,
   "metadata": {
    "collapsed": false
   },
   "outputs": [],
   "source": [
    "%load_ext sql"
   ]
  },
  {
   "cell_type": "code",
   "execution_count": null,
   "metadata": {
    "collapsed": false
   },
   "outputs": [],
   "source": [
    "!echo 'redspot' | sudo -S service postgresql restart"
   ]
  },
  {
   "cell_type": "code",
   "execution_count": null,
   "metadata": {
    "collapsed": true
   },
   "outputs": [],
   "source": [
    "!createdb -U dbuser ex4"
   ]
  },
  {
   "cell_type": "code",
   "execution_count": null,
   "metadata": {
    "collapsed": false
   },
   "outputs": [],
   "source": [
    "%sql postgresql://dbuser@localhost:5432/ex4"
   ]
  },
  {
   "cell_type": "code",
   "execution_count": null,
   "metadata": {
    "collapsed": false
   },
   "outputs": [],
   "source": [
    "%%sql\n",
    "DROP TABLE IF EXISTS insp;\n",
    "CREATE TABLE insp(\n",
    "    FACILITY_NAME CHAR(202),\n",
    "    FACILITY_KEY CHAR(20),\n",
    "    SITE_ADDRESS CHAR(102),\n",
    "    CITY CHAR(52),\n",
    "    STATE CHAR(6),                                                        \n",
    "    ZIP CHAR(22),\n",
    "    OWNER_KEY CHAR(26),                                    \n",
    "    OWNER_NAME CHAR(202), \n",
    "    NATURE_OF_BUSINESS CHAR(25),\n",
    "    STREET_NUMBER CHAR(16),\n",
    "    STREET_NAME CHAR(52),\n",
    "    STREET_TYPE CHAR(10),\n",
    "    POST_DIRECTIONAL CHAR(6),\n",
    "    PHONE CHAR(42),\n",
    "    PROGRAM_CATEGORY CHAR(10),\n",
    "    PROGRAM_CATEGORY_DESCRIPTION CHAR(92),\n",
    "    INSPECTION_DATE DATE,\n",
    "    INSPECTION_TYPE CHAR(4),\n",
    "    INSPECTION_DESC CHAR(102),\n",
    "    SERIAL_NUM CHAR(20),\n",
    "    ACTION_CODE CHAR(6),\n",
    "    ACTION_DESC CHAR(102),\n",
    "    RESULT_CODE CHAR(6),\n",
    "    RESULT_DESC CHAR(102),\n",
    "    VIOLATION_CODE CHAR(14),             \n",
    "    VIOLATION_DESC CHAR(202),\n",
    "    INSPECTION_MEMO CHAR(502)\n",
    ")"
   ]
  },
  {
   "cell_type": "code",
   "execution_count": null,
   "metadata": {
    "collapsed": false
   },
   "outputs": [],
   "source": [
    "%%sql\n",
    "COPY insp FROM '/home/jovyan/work/abq-food-inspections-fy2010.csv'\n",
    "CSV\n",
    "HEADER\n",
    "QUOTE '\"'\n",
    "DELIMITER ',';"
   ]
  },
  {
   "cell_type": "code",
   "execution_count": null,
   "metadata": {
    "collapsed": false
   },
   "outputs": [],
   "source": [
    "%%sql\n",
    "SELECT COUNT(*) FROM insp;"
   ]
  },
  {
   "cell_type": "markdown",
   "metadata": {},
   "source": [
    "## Problem 3 - explore your data (30 points)\n",
    "\n",
    "Now that the data is loaded, ask some questions of it!  Identify key variables of interest and note their ranges along with other useful descriptive statistics.  Choose and define a few lines of inquiry, execute queries for each, and describe what you find in your result sets.  Use any query techniques we've seen in class, including aggregate functions, transformations, subqueries, or others as appropriate. \n",
    "\n",
    "If you find interesting patterns, adding plots to your exploration would be useful.\n",
    "\n",
    "Insert a combination of code and text/markdown cells here to explore your data."
   ]
  },
  {
   "cell_type": "markdown",
   "metadata": {},
   "source": [
    "### Create index to make query runs faster"
   ]
  },
  {
   "cell_type": "code",
   "execution_count": null,
   "metadata": {
    "collapsed": false
   },
   "outputs": [],
   "source": [
    "%%sql\n",
    "DROP INDEX IF EXISTS idx_violat_type;\n",
    "CREATE INDEX idx_violat_type ON insp (nature_of_business, violation_code, violation_desc);"
   ]
  },
  {
   "cell_type": "code",
   "execution_count": null,
   "metadata": {
    "collapsed": false
   },
   "outputs": [],
   "source": [
    "%%sql\n",
    "\n",
    "SELECT nature_of_business, count(*) as count_total\n",
    "FROM insp\n",
    "GROUP BY nature_of_business\n",
    "ORDER BY count(*) DESC\n",
    "LIMIT 20;"
   ]
  },
  {
   "cell_type": "markdown",
   "metadata": {},
   "source": [
    "### It seems that Restaurant is the most common type of business; therefore it is very possible that this type of business will be the category that commit most violations. "
   ]
  },
  {
   "cell_type": "markdown",
   "metadata": {},
   "source": [
    "### To find the count of each type of violations, I want to exlude records that indicates there were no violations found, and also the ones that are not specified."
   ]
  },
  {
   "cell_type": "code",
   "execution_count": null,
   "metadata": {
    "collapsed": false
   },
   "outputs": [],
   "source": [
    "%%sql\n",
    "SELECT nature_of_business, violation_code, violation_desc, count(*)\n",
    "FROM insp\n",
    "WHERE violation_desc != 'No Violations Found' and violation_desc != 'Additional Comments' \n",
    "GROUP BY nature_of_business, violation_code, violation_desc\n",
    "ORDER BY count(*) DESC\n",
    "LIMIT 20;"
   ]
  },
  {
   "cell_type": "code",
   "execution_count": null,
   "metadata": {
    "collapsed": false
   },
   "outputs": [],
   "source": [
    "%%sql\n",
    "SELECT nature_of_business, COUNT(*)as count_violation\n",
    "FROM insp\n",
    "WHERE violation_desc != 'No Violations Found' and violation_desc != 'Additional Comments' \n",
    "GROUP BY nature_of_business\n",
    "ORDER BY COUNT(*) DESC\n",
    "LIMIT 20"
   ]
  },
  {
   "cell_type": "markdown",
   "metadata": {},
   "source": [
    "### We can see from above table indicating that Restaurant is the type of the business that commit most violations. "
   ]
  },
  {
   "cell_type": "markdown",
   "metadata": {},
   "source": [
    "### Now, I want to see that what are the top 10 most commonly commited types of violation for restaurants specifically."
   ]
  },
  {
   "cell_type": "code",
   "execution_count": null,
   "metadata": {
    "collapsed": false
   },
   "outputs": [],
   "source": [
    "%matplotlib inline"
   ]
  },
  {
   "cell_type": "code",
   "execution_count": null,
   "metadata": {
    "collapsed": false
   },
   "outputs": [],
   "source": [
    "%%sql\n",
    "SELECT nature_of_business, violation_desc, count(*)\n",
    "FROM insp\n",
    "WHERE nature_of_business = 'RESTAURANT' and violation_desc != 'No Violations Found' and violation_desc != 'Additional Comments' \n",
    "GROUP BY nature_of_business, violation_desc\n",
    "LIMIT 10;"
   ]
  },
  {
   "cell_type": "code",
   "execution_count": null,
   "metadata": {
    "collapsed": false
   },
   "outputs": [],
   "source": [
    "result = _\n",
    "result.bar()"
   ]
  },
  {
   "cell_type": "markdown",
   "metadata": {},
   "source": [
    "## Bonus (10 points)\n",
    "\n",
    "We have seen a few simple techniques for normalizing data in class.  Choose a column or set of columns that might be redundant and normalize them out to another table:\n",
    "\n",
    "* Identify the columns to normalize in the source data table\n",
    "* Create one or more new tables to hold the normalized records\n",
    "* Extract data into the new tables\n",
    "* Re-insert the new foreign key references from the new table into the source table"
   ]
  },
  {
   "cell_type": "markdown",
   "metadata": {},
   "source": [
    "### Extract information about whether there were one or multiple inspections taken on the same day."
   ]
  },
  {
   "cell_type": "code",
   "execution_count": null,
   "metadata": {
    "collapsed": false
   },
   "outputs": [],
   "source": [
    "%%sql\n",
    "SELECT DISTINCT OWNER_KEY, SERIAL_NUM\n",
    "FROM insp\n",
    "ORDER BY OWNER_KEY\n",
    "LIMIT 10;"
   ]
  },
  {
   "cell_type": "code",
   "execution_count": null,
   "metadata": {
    "collapsed": false
   },
   "outputs": [],
   "source": [
    "%%sql\n",
    "SELECT DISTINCT INSPECTION_DATE, SERIAL_NUM\n",
    "FROM insp\n",
    "ORDER BY INSPECTION_DATE\n",
    "LIMIT 10;"
   ]
  },
  {
   "cell_type": "code",
   "execution_count": null,
   "metadata": {
    "collapsed": false
   },
   "outputs": [],
   "source": [
    "%%sql\n",
    "DROP TABLE IF EXISTS inspections;\n",
    "CREATE TABLE inspections (\n",
    "    inspection_date DATE,\n",
    "    owner_key CHAR(26),\n",
    "    serial_num CHAR(20)\n",
    ");"
   ]
  },
  {
   "cell_type": "code",
   "execution_count": null,
   "metadata": {
    "collapsed": false
   },
   "outputs": [],
   "source": [
    "%%sql\n",
    "INSERT INTO inspections (inspection_date, owner_key, serial_num)\n",
    "SELECT inspection_date, owner_key, serial_num FROM insp;"
   ]
  },
  {
   "cell_type": "code",
   "execution_count": null,
   "metadata": {
    "collapsed": false
   },
   "outputs": [],
   "source": [
    "%%sql\n",
    "SELECT * FROM inspections LIMIT 10;"
   ]
  }
 ],
 "metadata": {
  "anaconda-cloud": {},
  "kernelspec": {
   "display_name": "Python 3",
   "language": "python",
   "name": "python3"
  },
  "language_info": {
   "codemirror_mode": {
    "name": "ipython",
    "version": 3
   },
   "file_extension": ".py",
   "mimetype": "text/x-python",
   "name": "python",
   "nbconvert_exporter": "python",
   "pygments_lexer": "ipython3",
   "version": "3.5.2"
  }
 },
 "nbformat": 4,
 "nbformat_minor": 1
}
